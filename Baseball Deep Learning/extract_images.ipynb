{
 "cells": [
  {
   "cell_type": "code",
   "execution_count": null,
   "id": "e104bbb7",
   "metadata": {},
   "outputs": [],
   "source": [
    "import os\n",
    "import cv2\n",
    "\n",
    "def extract_frames(input_path, output_path, train_ratio=0.8):\n",
    "    if not os.path.exists(output_path):\n",
    "        os.makedirs(output_path)\n",
    "\n",
    "    video_files = [f for f in os.listdir(input_path) if f.endswith('.avi')]\n",
    "\n",
    "    for video_file in video_files:\n",
    "        video_path = os.path.join(input_path, video_file)\n",
    "        video = cv2.VideoCapture(video_path)\n",
    "        total_frames = int(video.get(cv2.CAP_PROP_FRAME_COUNT))\n",
    "        video_name = os.path.splitext(video_file)[0]\n",
    "\n",
    "        train_frames = int(total_frames * train_ratio)\n",
    "        train_output_path = os.path.join(output_path, 'train')\n",
    "        val_output_path = os.path.join(output_path, 'val')\n",
    "\n",
    "        if not os.path.exists(train_output_path):\n",
    "            os.makedirs(train_output_path)\n",
    "\n",
    "        if not os.path.exists(val_output_path):\n",
    "            os.makedirs(val_output_path)\n",
    "\n",
    "        for frame_number in range(total_frames):\n",
    "            video.set(cv2.CAP_PROP_POS_FRAMES, frame_number)\n",
    "            ret, frame = video.read()\n",
    "\n",
    "            if ret:\n",
    "                if frame_number < train_frames:\n",
    "                    output_frame_path = os.path.join(train_output_path, f\"{video_name}_frame_{frame_number}.png\")\n",
    "                else:\n",
    "                    output_frame_path = os.path.join(val_output_path, f\"{video_name}_frame_{frame_number}.png\")\n",
    "\n",
    "                cv2.imwrite(output_frame_path, frame)\n",
    "            else:\n",
    "                break\n",
    "\n",
    "        video.release()\n",
    "\n",
    "def process_pitcher_data(base_path):\n",
    "    hands = ['right_handed', 'left_handed']\n",
    "    for hand in hands:\n",
    "        for pitcher_num in range(1, 11):\n",
    "            input_path = os.path.join(base_path, hand, f'pitcher_{pitcher_num}')\n",
    "            output_path = os.path.join('D:/Extracted_Frames', hand, f'pitcher_{pitcher_num}_frames')\n",
    "            if os.path.exists(input_path):\n",
    "                print(f'Processing {hand} pitcher {pitcher_num}...')\n",
    "                extract_frames(input_path, output_path)\n",
    "                print(f'{hand} pitcher {pitcher_num} completed.')\n",
    "\n",
    "base_path = 'C:/Users/OSUsp/Desktop/Pitching Model'\n",
    "process_pitcher_data(base_path)"
   ]
  }
 ],
 "metadata": {
  "kernelspec": {
   "display_name": "Python 3 (ipykernel)",
   "language": "python",
   "name": "python3"
  },
  "language_info": {
   "codemirror_mode": {
    "name": "ipython",
    "version": 3
   },
   "file_extension": ".py",
   "mimetype": "text/x-python",
   "name": "python",
   "nbconvert_exporter": "python",
   "pygments_lexer": "ipython3",
   "version": "3.10.10"
  }
 },
 "nbformat": 4,
 "nbformat_minor": 5
}
